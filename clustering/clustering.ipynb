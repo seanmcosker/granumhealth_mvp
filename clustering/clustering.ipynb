{
 "cells": [
  {
   "cell_type": "code",
   "execution_count": 60,
   "metadata": {},
   "outputs": [],
   "source": [
    "import pandas as pd\n",
    "import matplotlib.pyplot as plt\n",
    "import scipy\n",
    "import sklearn\n",
    "import random\n",
    "import seaborn as sns\n",
    "import numpy as np"
   ]
  },
  {
   "cell_type": "code",
   "execution_count": 6,
   "metadata": {},
   "outputs": [],
   "source": [
    "#making list of symptoms and frequency to use as column headers\n",
    "sxs = {\"Fatigue\": 0.91, \"Autonomic\":0.18, \"Sleep\":0.88, \"Pain\":0.7, \"Neurocognitive\":0.17, \"Neuroendocrine\":0.2, \"Immune\":0.18, \"Others\":0.17}"
   ]
  },
  {
   "attachments": {},
   "cell_type": "markdown",
   "metadata": {},
   "source": [
    "Idea here is to make a list of 1000 people, where each person has a chance of having the symptom proportional to the frequency of symptoms observed in the table. A couple of clear problems with this approach emerge - chiefly, there is obviously collinearity between symptoms, but as a proof of concept, this works well. "
   ]
  },
  {
   "cell_type": "code",
   "execution_count": 24,
   "metadata": {},
   "outputs": [],
   "source": [
    "sxs_freq = []\n",
    "\n",
    "for e in sxs.values():\n",
    "    l = []\n",
    "    for i in range(1000):\n",
    "        if random.random() > e:\n",
    "            l.append(0)\n",
    "        else:\n",
    "            l.append(1)\n",
    "        \n",
    "    sxs_freq.append(l)"
   ]
  },
  {
   "cell_type": "code",
   "execution_count": 26,
   "metadata": {},
   "outputs": [],
   "source": [
    "sxs_df = pd.DataFrame(sxs_freq)\n",
    "sxs_df = sxs_df.transpose()"
   ]
  },
  {
   "cell_type": "code",
   "execution_count": 31,
   "metadata": {},
   "outputs": [
    {
     "data": {
      "text/html": [
       "<div>\n",
       "<style scoped>\n",
       "    .dataframe tbody tr th:only-of-type {\n",
       "        vertical-align: middle;\n",
       "    }\n",
       "\n",
       "    .dataframe tbody tr th {\n",
       "        vertical-align: top;\n",
       "    }\n",
       "\n",
       "    .dataframe thead th {\n",
       "        text-align: right;\n",
       "    }\n",
       "</style>\n",
       "<table border=\"1\" class=\"dataframe\">\n",
       "  <thead>\n",
       "    <tr style=\"text-align: right;\">\n",
       "      <th></th>\n",
       "      <th>Fatigue</th>\n",
       "      <th>Autonomic</th>\n",
       "      <th>Sleep</th>\n",
       "      <th>Pain</th>\n",
       "      <th>Neurocognitive</th>\n",
       "      <th>Neuroendocrine</th>\n",
       "      <th>Immune</th>\n",
       "      <th>Others</th>\n",
       "    </tr>\n",
       "  </thead>\n",
       "  <tbody>\n",
       "    <tr>\n",
       "      <th>0</th>\n",
       "      <td>0</td>\n",
       "      <td>0</td>\n",
       "      <td>1</td>\n",
       "      <td>0</td>\n",
       "      <td>1</td>\n",
       "      <td>0</td>\n",
       "      <td>0</td>\n",
       "      <td>0</td>\n",
       "    </tr>\n",
       "    <tr>\n",
       "      <th>1</th>\n",
       "      <td>1</td>\n",
       "      <td>0</td>\n",
       "      <td>1</td>\n",
       "      <td>0</td>\n",
       "      <td>0</td>\n",
       "      <td>0</td>\n",
       "      <td>0</td>\n",
       "      <td>0</td>\n",
       "    </tr>\n",
       "    <tr>\n",
       "      <th>2</th>\n",
       "      <td>1</td>\n",
       "      <td>0</td>\n",
       "      <td>1</td>\n",
       "      <td>0</td>\n",
       "      <td>0</td>\n",
       "      <td>0</td>\n",
       "      <td>0</td>\n",
       "      <td>1</td>\n",
       "    </tr>\n",
       "    <tr>\n",
       "      <th>3</th>\n",
       "      <td>1</td>\n",
       "      <td>0</td>\n",
       "      <td>1</td>\n",
       "      <td>0</td>\n",
       "      <td>0</td>\n",
       "      <td>0</td>\n",
       "      <td>0</td>\n",
       "      <td>0</td>\n",
       "    </tr>\n",
       "    <tr>\n",
       "      <th>4</th>\n",
       "      <td>1</td>\n",
       "      <td>0</td>\n",
       "      <td>1</td>\n",
       "      <td>1</td>\n",
       "      <td>0</td>\n",
       "      <td>0</td>\n",
       "      <td>0</td>\n",
       "      <td>0</td>\n",
       "    </tr>\n",
       "    <tr>\n",
       "      <th>...</th>\n",
       "      <td>...</td>\n",
       "      <td>...</td>\n",
       "      <td>...</td>\n",
       "      <td>...</td>\n",
       "      <td>...</td>\n",
       "      <td>...</td>\n",
       "      <td>...</td>\n",
       "      <td>...</td>\n",
       "    </tr>\n",
       "    <tr>\n",
       "      <th>995</th>\n",
       "      <td>1</td>\n",
       "      <td>0</td>\n",
       "      <td>1</td>\n",
       "      <td>1</td>\n",
       "      <td>0</td>\n",
       "      <td>1</td>\n",
       "      <td>1</td>\n",
       "      <td>0</td>\n",
       "    </tr>\n",
       "    <tr>\n",
       "      <th>996</th>\n",
       "      <td>1</td>\n",
       "      <td>0</td>\n",
       "      <td>1</td>\n",
       "      <td>1</td>\n",
       "      <td>0</td>\n",
       "      <td>0</td>\n",
       "      <td>0</td>\n",
       "      <td>0</td>\n",
       "    </tr>\n",
       "    <tr>\n",
       "      <th>997</th>\n",
       "      <td>1</td>\n",
       "      <td>0</td>\n",
       "      <td>1</td>\n",
       "      <td>1</td>\n",
       "      <td>0</td>\n",
       "      <td>1</td>\n",
       "      <td>1</td>\n",
       "      <td>1</td>\n",
       "    </tr>\n",
       "    <tr>\n",
       "      <th>998</th>\n",
       "      <td>1</td>\n",
       "      <td>0</td>\n",
       "      <td>1</td>\n",
       "      <td>1</td>\n",
       "      <td>0</td>\n",
       "      <td>0</td>\n",
       "      <td>1</td>\n",
       "      <td>1</td>\n",
       "    </tr>\n",
       "    <tr>\n",
       "      <th>999</th>\n",
       "      <td>1</td>\n",
       "      <td>0</td>\n",
       "      <td>1</td>\n",
       "      <td>0</td>\n",
       "      <td>1</td>\n",
       "      <td>0</td>\n",
       "      <td>0</td>\n",
       "      <td>0</td>\n",
       "    </tr>\n",
       "  </tbody>\n",
       "</table>\n",
       "<p>1000 rows × 8 columns</p>\n",
       "</div>"
      ],
      "text/plain": [
       "     Fatigue  Autonomic  Sleep  Pain  Neurocognitive  Neuroendocrine  Immune  \\\n",
       "0          0          0      1     0               1               0       0   \n",
       "1          1          0      1     0               0               0       0   \n",
       "2          1          0      1     0               0               0       0   \n",
       "3          1          0      1     0               0               0       0   \n",
       "4          1          0      1     1               0               0       0   \n",
       "..       ...        ...    ...   ...             ...             ...     ...   \n",
       "995        1          0      1     1               0               1       1   \n",
       "996        1          0      1     1               0               0       0   \n",
       "997        1          0      1     1               0               1       1   \n",
       "998        1          0      1     1               0               0       1   \n",
       "999        1          0      1     0               1               0       0   \n",
       "\n",
       "     Others  \n",
       "0         0  \n",
       "1         0  \n",
       "2         1  \n",
       "3         0  \n",
       "4         0  \n",
       "..      ...  \n",
       "995       0  \n",
       "996       0  \n",
       "997       1  \n",
       "998       1  \n",
       "999       0  \n",
       "\n",
       "[1000 rows x 8 columns]"
      ]
     },
     "execution_count": 31,
     "metadata": {},
     "output_type": "execute_result"
    }
   ],
   "source": [
    "sxs_df.columns = sxs.keys()\n",
    "sxs_df"
   ]
  },
  {
   "cell_type": "code",
   "execution_count": 66,
   "metadata": {},
   "outputs": [],
   "source": [
    "## PCA STEP\n",
    "from sklearn.decomposition import PCA\n",
    "\n",
    "pca = PCA(2)\n",
    "pca_df = pca.fit_transform(sxs_df)\n"
   ]
  },
  {
   "cell_type": "code",
   "execution_count": 34,
   "metadata": {},
   "outputs": [],
   "source": [
    "import matplotlib.pyplot as plt\n",
    "#from kneed import KneeLocator\n",
    "from sklearn.datasets import make_blobs\n",
    "from sklearn.cluster import KMeans\n",
    "from sklearn.metrics import silhouette_score\n",
    "from sklearn.preprocessing import StandardScaler"
   ]
  },
  {
   "cell_type": "code",
   "execution_count": 67,
   "metadata": {},
   "outputs": [],
   "source": [
    "model = KMeans()\n",
    "\n",
    "label = model.fit_predict(pca_df)\n",
    "\n"
   ]
  },
  {
   "cell_type": "code",
   "execution_count": 68,
   "metadata": {},
   "outputs": [
    {
     "data": {
      "image/png": "[encoded data removed]",
      "text/plain": [
       "<Figure size 432x288 with 1 Axes>"
      ]
     },
     "metadata": {
      "needs_background": "light"
     },
     "output_type": "display_data"
    }
   ],
   "source": [
    "import matplotlib.pyplot as plt\n",
    " \n",
    "#filter rows of original data\n",
    "filtered_label0 = pca_df[label == 0]\n",
    " \n",
    "#plotting the results\n",
    "plt.scatter(filtered_label0[:,0] , filtered_label0[:,1])\n",
    "plt.show()"
   ]
  },
  {
   "cell_type": "code",
   "execution_count": 77,
   "metadata": {},
   "outputs": [
    {
     "data": {
      "image/png": "[encoded data removed]",
      "text/plain": [
       "<Figure size 432x288 with 1 Axes>"
      ]
     },
     "metadata": {
      "needs_background": "light"
     },
     "output_type": "display_data"
    }
   ],
   "source": [
    "u_labels = np.unique(label)\n",
    " \n",
    "#plotting the results:\n",
    " \n",
    "for i in u_labels:\n",
    "    plt.scatter(pca_df[label == i , 0] , pca_df[label == i , 1] , label = i)\n",
    "plt.legend()\n",
    "plt.show()"
   ]
  },
  {
   "cell_type": "code",
   "execution_count": 78,
   "metadata": {},
   "outputs": [
    {
     "data": {
      "text/plain": [
       "array([0, 1, 0, 1, 3, 0, 4, 5, 5, 0, 5, 0, 0, 0, 0, 0, 1, 0, 0, 0, 0, 2,\n",
       "       0, 5, 0, 1, 1, 0, 0, 0, 0, 0, 7, 0, 0, 1, 0, 5, 0, 0, 5, 0, 0, 7,\n",
       "       5, 0, 5, 0, 1, 6, 0, 0, 0, 1, 0, 0, 0, 0, 0, 1, 1, 0, 0, 2, 2, 0,\n",
       "       0, 0, 0, 0, 0, 0, 0, 0, 0, 0, 0, 0, 1, 0, 0, 0, 0, 0, 0, 0, 0, 0,\n",
       "       7, 1, 6, 0, 5, 0, 0, 0, 6, 1, 0, 6, 0, 0, 2, 0, 0, 0, 0, 0, 0, 0,\n",
       "       0, 0, 0, 0, 0, 7, 7, 5, 6, 0, 0, 0, 0, 0, 0, 0, 0, 0, 1, 0, 0, 0,\n",
       "       0, 0, 5, 0, 0, 0, 2, 0, 0, 0, 0, 0, 0, 1, 2, 0, 5, 0, 5, 0, 0, 0,\n",
       "       0, 2, 0, 0, 0, 0, 0, 0, 0, 0, 0, 0, 6, 0, 6, 0, 2, 0, 0, 0, 7, 0,\n",
       "       0, 0, 0, 6, 0, 0, 1, 0, 0, 0, 6, 1, 0, 5, 0, 0, 0, 0, 0, 6, 0, 0,\n",
       "       0, 2, 0, 1, 1, 0, 7, 7, 0, 5, 1, 0, 0, 0, 1, 6, 0, 0, 0, 0, 2, 0,\n",
       "       0, 0, 5, 0, 0, 0, 0, 0, 0, 1, 0, 0, 6, 0, 2, 0, 0, 0, 0, 7, 0, 0,\n",
       "       0, 5, 0, 0, 0, 0, 7, 0, 0, 0, 0, 2, 0, 0, 0, 0, 1, 2, 0, 0, 2, 0,\n",
       "       0, 0, 0, 0, 5, 2, 0, 0, 0, 0, 2, 0, 0, 0, 2, 0, 0, 0, 0, 0, 0, 5,\n",
       "       0, 0, 0, 0, 0, 0, 0, 0, 0, 0, 0, 0, 0, 0, 1, 0, 0, 0, 0, 6, 0, 0,\n",
       "       0, 0, 0, 5, 0, 0, 7, 0, 0, 2, 0, 0, 7, 0, 0, 0, 0, 6, 6, 0, 0, 0,\n",
       "       0, 0, 0, 0, 0, 0, 5, 0, 0, 0, 7, 0, 5, 7, 2, 7, 5, 2, 0, 0, 0, 0,\n",
       "       0, 0, 0, 0, 0, 0, 7, 0, 1, 0, 0, 5, 1, 0, 0, 6, 6, 7, 0, 0, 1, 0,\n",
       "       0, 7, 0, 1, 6, 0, 0, 0, 1, 5, 0, 0, 6, 0, 2, 0, 6, 0, 1, 5, 0, 0,\n",
       "       0, 0, 0, 0, 0, 1, 1, 0, 0, 0, 7, 0, 2, 0, 0, 0, 0, 0, 0, 0, 0, 2,\n",
       "       0, 7, 0, 0, 6, 7, 0, 0, 2, 0, 0, 5, 0, 7, 0, 7, 0, 1, 0, 0, 0, 0,\n",
       "       0, 0, 0, 0, 0, 0, 5, 0, 0, 0, 0, 5, 0, 5, 0, 0, 0, 0, 0, 0, 0, 1,\n",
       "       0, 0, 2, 7, 0, 2, 0, 0, 0, 0, 7, 0, 7, 6, 1, 0, 0, 0, 0, 0, 0, 0,\n",
       "       0, 6, 1, 0, 2, 0, 0, 1, 1, 0, 0, 0, 0, 0, 7, 0, 0, 0, 0, 0, 0, 0,\n",
       "       6, 0, 0, 1, 0, 0, 0, 0, 0, 2, 0, 6, 0, 6, 0, 0, 6, 0, 6, 7, 0, 0,\n",
       "       1, 2, 1, 0, 2, 0, 0, 6, 0, 6, 0, 0, 0, 1, 0, 2, 0, 1, 0, 5, 0, 1,\n",
       "       0, 0, 0, 0, 0, 0, 0, 0, 0, 0, 0, 0, 0, 0, 0, 1, 0, 6, 0, 1, 0, 5,\n",
       "       6, 2, 0, 0, 2, 0, 0, 0, 7, 5, 0, 0, 1, 1, 0, 1, 0, 0, 0, 0, 0, 0,\n",
       "       0, 0, 0, 0, 0, 0, 0, 1, 0, 0, 6, 0, 2, 0, 0, 0, 0, 0, 0, 0, 0, 0,\n",
       "       0, 0, 0, 0, 0, 0, 1, 0, 0, 0, 0, 0, 0, 0, 0, 0, 0, 0, 0, 0, 0, 0,\n",
       "       0, 0, 5, 1, 0, 0, 0, 5, 7, 0, 0, 0, 0, 0, 0, 0, 0, 5, 0, 1, 0, 0,\n",
       "       0, 6, 7, 0, 0, 0, 0, 0, 0, 2, 2, 2, 0, 7, 0, 0, 5, 0, 0, 0, 0, 2,\n",
       "       0, 0, 0, 0, 0, 0, 0, 7, 1, 0, 0, 0, 0, 0, 0, 0, 0, 0, 0, 0, 0, 0,\n",
       "       0, 1, 0, 7, 0, 0, 6, 0, 0, 0, 5, 0, 0, 0, 0, 0, 0, 7, 2, 0, 0, 0,\n",
       "       2, 5, 0, 0, 0, 5, 0, 0, 0, 0, 0, 0, 0, 0, 2, 2, 0, 0, 0, 0, 0, 0,\n",
       "       0, 0, 0, 0, 0, 0, 0, 6, 0, 2, 0, 0, 2, 0, 1, 6, 1, 0, 0, 0, 1, 0,\n",
       "       7, 0, 0, 6, 5, 5, 0, 0, 0, 0, 0, 0, 0, 0, 0, 0, 0, 0, 0, 0, 0, 2,\n",
       "       0, 0, 0, 0, 0, 1, 0, 6, 6, 0, 7, 0, 1, 1, 0, 1, 2, 1, 0, 0, 0, 0,\n",
       "       0, 0, 0, 0, 0, 0, 0, 1, 0, 6, 7, 0, 2, 0, 1, 1, 0, 0, 0, 7, 0, 0,\n",
       "       0, 0, 0, 0, 0, 5, 0, 0, 0, 0, 0, 0, 1, 0, 6, 0, 0, 7, 0, 6, 0, 0,\n",
       "       0, 2, 0, 0, 0, 0, 0, 0, 1, 0, 0, 0, 2, 0, 0, 1, 5, 0, 0, 0, 0, 0,\n",
       "       0, 0, 0, 5, 0, 1, 0, 0, 0, 1, 1, 6, 0, 0, 1, 0, 0, 0, 0, 0, 0, 0,\n",
       "       0, 5, 0, 0, 1, 0, 6, 1, 2, 1, 0, 0, 0, 1, 0, 0, 0, 1, 0, 0, 1, 0,\n",
       "       6, 0, 7, 2, 5, 0, 0, 0, 0, 0, 5, 1, 0, 0, 7, 0, 0, 0, 0, 0, 0, 0,\n",
       "       6, 0, 0, 2, 0, 0, 0, 0, 0, 0, 0, 2, 0, 0, 0, 7, 0, 0, 0, 0, 0, 0,\n",
       "       0, 0, 0, 0, 0, 1, 0, 7, 0, 0, 0, 0, 0, 0, 2, 5, 2, 0, 0, 2, 0, 5,\n",
       "       0, 1, 0, 0, 6, 0, 0, 0, 0, 0], dtype=uint16)"
      ]
     },
     "execution_count": 78,
     "metadata": {},
     "output_type": "execute_result"
    }
   ],
   "source": [
    "from kmodes.kmodes import KModes\n",
    "\n",
    "kmode = KModes()\n",
    "label = kmode.fit_predict(pca_df)\n",
    "label"
   ]
  },
  {
   "cell_type": "code",
   "execution_count": 79,
   "metadata": {},
   "outputs": [
    {
     "data": {
      "image/png": "[encoded data removed]",
      "text/plain": [
       "<Figure size 432x288 with 1 Axes>"
      ]
     },
     "metadata": {
      "needs_background": "light"
     },
     "output_type": "display_data"
    }
   ],
   "source": [
    "u_labels = np.unique(label)\n",
    " \n",
    "#plotting the results:\n",
    " \n",
    "for i in u_labels:\n",
    "    plt.scatter(pca_df[label == i , 0] , pca_df[label == i , 1] , label = i)\n",
    "plt.legend()\n",
    "plt.show()"
   ]
  }
 ],
 "metadata": {
  "kernelspec": {
   "display_name": "SummerEnv",
   "language": "python",
   "name": "python3"
  },
  "language_info": {
   "codemirror_mode": {
    "name": "ipython",
    "version": 3
   },
   "file_extension": ".py",
   "mimetype": "text/x-python",
   "name": "python",
   "nbconvert_exporter": "python",
   "pygments_lexer": "ipython3",
   "version": "3.8.13"
  },
  "orig_nbformat": 4,
  "vscode": {
   "interpreter": {
    "hash": "4ed1e09aa2d3f34714a98cbd449bb940e5f4c9e47cd276bf2fd07398c0351372"
   }
  }
 },
 "nbformat": 4,
 "nbformat_minor": 2
}
